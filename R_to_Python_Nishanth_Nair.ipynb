{
 "cells": [
  {
   "cell_type": "markdown",
   "id": "5a66771a",
   "metadata": {},
   "source": [
    "### This notebook gives a conversion of code from R to Python. The R code is taken from the Case Study A in the book Market Segementation Analysis by Sarah Dolnicar, Bettina Grün and Friedrich Leisch. \n",
    "The book can be found __[here](https://drive.google.com/file/d/1SIEt4Bp_4R9dcs4saU1DIui1IKWQIW38/view?usp=sharing)__."
   ]
  },
  {
   "cell_type": "code",
   "execution_count": 1,
   "id": "08b10acc",
   "metadata": {},
   "outputs": [],
   "source": [
    "import pandas as pd\n",
    "import numpy as np\n",
    "import factor_analyzer"
   ]
  },
  {
   "cell_type": "code",
   "execution_count": 2,
   "id": "c13c6093",
   "metadata": {},
   "outputs": [],
   "source": [
    "mcd = pd.read_csv('datasets\\mcdonalds.csv')"
   ]
  },
  {
   "cell_type": "code",
   "execution_count": 3,
   "id": "935458eb",
   "metadata": {},
   "outputs": [
    {
     "data": {
      "text/plain": [
       "Index(['yummy', 'convenient', 'spicy', 'fattening', 'greasy', 'fast', 'cheap',\n",
       "       'tasty', 'expensive', 'healthy', 'disgusting', 'Like', 'Age',\n",
       "       'VisitFrequency', 'Gender'],\n",
       "      dtype='object')"
      ]
     },
     "execution_count": 3,
     "metadata": {},
     "output_type": "execute_result"
    }
   ],
   "source": [
    "mcd.columns"
   ]
  },
  {
   "cell_type": "code",
   "execution_count": 4,
   "id": "86deead9",
   "metadata": {},
   "outputs": [
    {
     "data": {
      "text/plain": [
       "(1453, 15)"
      ]
     },
     "execution_count": 4,
     "metadata": {},
     "output_type": "execute_result"
    }
   ],
   "source": [
    "mcd.shape"
   ]
  },
  {
   "cell_type": "code",
   "execution_count": 5,
   "id": "b2ee0bcf",
   "metadata": {},
   "outputs": [
    {
     "data": {
      "text/html": [
       "<div>\n",
       "<style scoped>\n",
       "    .dataframe tbody tr th:only-of-type {\n",
       "        vertical-align: middle;\n",
       "    }\n",
       "\n",
       "    .dataframe tbody tr th {\n",
       "        vertical-align: top;\n",
       "    }\n",
       "\n",
       "    .dataframe thead th {\n",
       "        text-align: right;\n",
       "    }\n",
       "</style>\n",
       "<table border=\"1\" class=\"dataframe\">\n",
       "  <thead>\n",
       "    <tr style=\"text-align: right;\">\n",
       "      <th></th>\n",
       "      <th>yummy</th>\n",
       "      <th>convenient</th>\n",
       "      <th>spicy</th>\n",
       "      <th>fattening</th>\n",
       "      <th>greasy</th>\n",
       "      <th>fast</th>\n",
       "      <th>cheap</th>\n",
       "      <th>tasty</th>\n",
       "      <th>expensive</th>\n",
       "      <th>healthy</th>\n",
       "      <th>disgusting</th>\n",
       "      <th>Like</th>\n",
       "      <th>Age</th>\n",
       "      <th>VisitFrequency</th>\n",
       "      <th>Gender</th>\n",
       "    </tr>\n",
       "  </thead>\n",
       "  <tbody>\n",
       "    <tr>\n",
       "      <th>0</th>\n",
       "      <td>No</td>\n",
       "      <td>Yes</td>\n",
       "      <td>No</td>\n",
       "      <td>Yes</td>\n",
       "      <td>No</td>\n",
       "      <td>Yes</td>\n",
       "      <td>Yes</td>\n",
       "      <td>No</td>\n",
       "      <td>Yes</td>\n",
       "      <td>No</td>\n",
       "      <td>No</td>\n",
       "      <td>-3</td>\n",
       "      <td>61</td>\n",
       "      <td>Every three months</td>\n",
       "      <td>Female</td>\n",
       "    </tr>\n",
       "    <tr>\n",
       "      <th>1</th>\n",
       "      <td>Yes</td>\n",
       "      <td>Yes</td>\n",
       "      <td>No</td>\n",
       "      <td>Yes</td>\n",
       "      <td>Yes</td>\n",
       "      <td>Yes</td>\n",
       "      <td>Yes</td>\n",
       "      <td>Yes</td>\n",
       "      <td>Yes</td>\n",
       "      <td>No</td>\n",
       "      <td>No</td>\n",
       "      <td>+2</td>\n",
       "      <td>51</td>\n",
       "      <td>Every three months</td>\n",
       "      <td>Female</td>\n",
       "    </tr>\n",
       "    <tr>\n",
       "      <th>2</th>\n",
       "      <td>No</td>\n",
       "      <td>Yes</td>\n",
       "      <td>Yes</td>\n",
       "      <td>Yes</td>\n",
       "      <td>Yes</td>\n",
       "      <td>Yes</td>\n",
       "      <td>No</td>\n",
       "      <td>Yes</td>\n",
       "      <td>Yes</td>\n",
       "      <td>Yes</td>\n",
       "      <td>No</td>\n",
       "      <td>+1</td>\n",
       "      <td>62</td>\n",
       "      <td>Every three months</td>\n",
       "      <td>Female</td>\n",
       "    </tr>\n",
       "  </tbody>\n",
       "</table>\n",
       "</div>"
      ],
      "text/plain": [
       "  yummy convenient spicy fattening greasy fast cheap tasty expensive healthy  \\\n",
       "0    No        Yes    No       Yes     No  Yes   Yes    No       Yes      No   \n",
       "1   Yes        Yes    No       Yes    Yes  Yes   Yes   Yes       Yes      No   \n",
       "2    No        Yes   Yes       Yes    Yes  Yes    No   Yes       Yes     Yes   \n",
       "\n",
       "  disgusting Like  Age      VisitFrequency  Gender  \n",
       "0         No   -3   61  Every three months  Female  \n",
       "1         No   +2   51  Every three months  Female  \n",
       "2         No   +1   62  Every three months  Female  "
      ]
     },
     "execution_count": 5,
     "metadata": {},
     "output_type": "execute_result"
    }
   ],
   "source": [
    "mcd.head(3)"
   ]
  },
  {
   "cell_type": "code",
   "execution_count": 6,
   "id": "e3aa7456",
   "metadata": {},
   "outputs": [
    {
     "data": {
      "text/plain": [
       "yummy         0.552650\n",
       "convenient    0.907777\n",
       "spicy         0.093599\n",
       "fattening     0.867171\n",
       "greasy        0.526497\n",
       "fast          0.900206\n",
       "cheap         0.598761\n",
       "tasty         0.644184\n",
       "expensive     0.357880\n",
       "healthy       0.198899\n",
       "disgusting    0.242946\n",
       "dtype: float64"
      ]
     },
     "execution_count": 6,
     "metadata": {},
     "output_type": "execute_result"
    }
   ],
   "source": [
    "md = mcd[['yummy','convenient','spicy','fattening','greasy','fast','cheap','tasty','expensive','healthy','disgusting']]\n",
    "md = md.replace({\"Yes\":1, \"No\":0})\n",
    "md.mean()"
   ]
  },
  {
   "cell_type": "markdown",
   "id": "81796621",
   "metadata": {},
   "source": [
    "**Around 55% of respondents perceive McDonald's as `yummy`, while only 9% think the food is spicy. Principal components analysis and a perceptual map provide initial insights into how attributes are rated and which tend to be rated similarly. Principal components analysis is not used to reduce variables but to rotate and project data for the perceptual map. Unstandardized data is used because the segmentation variables are binary. Factor-cluster analysis is generally inferior to clustering raw data.**"
   ]
  },
  {
   "cell_type": "code",
   "execution_count": 7,
   "id": "f789fc64",
   "metadata": {},
   "outputs": [
    {
     "data": {
      "text/html": [
       "<style>#sk-container-id-1 {color: black;background-color: white;}#sk-container-id-1 pre{padding: 0;}#sk-container-id-1 div.sk-toggleable {background-color: white;}#sk-container-id-1 label.sk-toggleable__label {cursor: pointer;display: block;width: 100%;margin-bottom: 0;padding: 0.3em;box-sizing: border-box;text-align: center;}#sk-container-id-1 label.sk-toggleable__label-arrow:before {content: \"▸\";float: left;margin-right: 0.25em;color: #696969;}#sk-container-id-1 label.sk-toggleable__label-arrow:hover:before {color: black;}#sk-container-id-1 div.sk-estimator:hover label.sk-toggleable__label-arrow:before {color: black;}#sk-container-id-1 div.sk-toggleable__content {max-height: 0;max-width: 0;overflow: hidden;text-align: left;background-color: #f0f8ff;}#sk-container-id-1 div.sk-toggleable__content pre {margin: 0.2em;color: black;border-radius: 0.25em;background-color: #f0f8ff;}#sk-container-id-1 input.sk-toggleable__control:checked~div.sk-toggleable__content {max-height: 200px;max-width: 100%;overflow: auto;}#sk-container-id-1 input.sk-toggleable__control:checked~label.sk-toggleable__label-arrow:before {content: \"▾\";}#sk-container-id-1 div.sk-estimator input.sk-toggleable__control:checked~label.sk-toggleable__label {background-color: #d4ebff;}#sk-container-id-1 div.sk-label input.sk-toggleable__control:checked~label.sk-toggleable__label {background-color: #d4ebff;}#sk-container-id-1 input.sk-hidden--visually {border: 0;clip: rect(1px 1px 1px 1px);clip: rect(1px, 1px, 1px, 1px);height: 1px;margin: -1px;overflow: hidden;padding: 0;position: absolute;width: 1px;}#sk-container-id-1 div.sk-estimator {font-family: monospace;background-color: #f0f8ff;border: 1px dotted black;border-radius: 0.25em;box-sizing: border-box;margin-bottom: 0.5em;}#sk-container-id-1 div.sk-estimator:hover {background-color: #d4ebff;}#sk-container-id-1 div.sk-parallel-item::after {content: \"\";width: 100%;border-bottom: 1px solid gray;flex-grow: 1;}#sk-container-id-1 div.sk-label:hover label.sk-toggleable__label {background-color: #d4ebff;}#sk-container-id-1 div.sk-serial::before {content: \"\";position: absolute;border-left: 1px solid gray;box-sizing: border-box;top: 0;bottom: 0;left: 50%;z-index: 0;}#sk-container-id-1 div.sk-serial {display: flex;flex-direction: column;align-items: center;background-color: white;padding-right: 0.2em;padding-left: 0.2em;position: relative;}#sk-container-id-1 div.sk-item {position: relative;z-index: 1;}#sk-container-id-1 div.sk-parallel {display: flex;align-items: stretch;justify-content: center;background-color: white;position: relative;}#sk-container-id-1 div.sk-item::before, #sk-container-id-1 div.sk-parallel-item::before {content: \"\";position: absolute;border-left: 1px solid gray;box-sizing: border-box;top: 0;bottom: 0;left: 50%;z-index: -1;}#sk-container-id-1 div.sk-parallel-item {display: flex;flex-direction: column;z-index: 1;position: relative;background-color: white;}#sk-container-id-1 div.sk-parallel-item:first-child::after {align-self: flex-end;width: 50%;}#sk-container-id-1 div.sk-parallel-item:last-child::after {align-self: flex-start;width: 50%;}#sk-container-id-1 div.sk-parallel-item:only-child::after {width: 0;}#sk-container-id-1 div.sk-dashed-wrapped {border: 1px dashed gray;margin: 0 0.4em 0.5em 0.4em;box-sizing: border-box;padding-bottom: 0.4em;background-color: white;}#sk-container-id-1 div.sk-label label {font-family: monospace;font-weight: bold;display: inline-block;line-height: 1.2em;}#sk-container-id-1 div.sk-label-container {text-align: center;}#sk-container-id-1 div.sk-container {/* jupyter's `normalize.less` sets `[hidden] { display: none; }` but bootstrap.min.css set `[hidden] { display: none !important; }` so we also need the `!important` here to be able to override the default hidden behavior on the sphinx rendered scikit-learn.org. See: https://github.com/scikit-learn/scikit-learn/issues/21755 */display: inline-block !important;position: relative;}#sk-container-id-1 div.sk-text-repr-fallback {display: none;}</style><div id=\"sk-container-id-1\" class=\"sk-top-container\"><div class=\"sk-text-repr-fallback\"><pre>PCA()</pre><b>In a Jupyter environment, please rerun this cell to show the HTML representation or trust the notebook. <br />On GitHub, the HTML representation is unable to render, please try loading this page with nbviewer.org.</b></div><div class=\"sk-container\" hidden><div class=\"sk-item\"><div class=\"sk-estimator sk-toggleable\"><input class=\"sk-toggleable__control sk-hidden--visually\" id=\"sk-estimator-id-1\" type=\"checkbox\" checked><label for=\"sk-estimator-id-1\" class=\"sk-toggleable__label sk-toggleable__label-arrow\">PCA</label><div class=\"sk-toggleable__content\"><pre>PCA()</pre></div></div></div></div></div>"
      ],
      "text/plain": [
       "PCA()"
      ]
     },
     "execution_count": 7,
     "metadata": {},
     "output_type": "execute_result"
    }
   ],
   "source": [
    "from sklearn.decomposition import PCA\n",
    "\n",
    "pca = PCA()\n",
    "pca.fit(md)"
   ]
  },
  {
   "cell_type": "code",
   "execution_count": 8,
   "id": "266ce216",
   "metadata": {},
   "outputs": [],
   "source": [
    "std_dev = np.sqrt(pca.explained_variance_)\n",
    "imp = pd.DataFrame(std_dev)\n",
    "\n",
    "var_list = []\n",
    "var_den = 0\n",
    "\n",
    "for i in range(0,11):\n",
    "    var_den += imp[0][i]**2\n",
    "\n",
    "for i in range(0, len(std_dev)):\n",
    "    var = (imp[0][i]**2) / var_den\n",
    "    var_list.append(var)"
   ]
  },
  {
   "cell_type": "code",
   "execution_count": 9,
   "id": "33b4132c",
   "metadata": {},
   "outputs": [],
   "source": [
    "imp[\"Proportion of Variance\"] = var_list\n",
    "imp.rename(columns={0: 'Standard Deviation'}, inplace=True)"
   ]
  },
  {
   "cell_type": "code",
   "execution_count": 10,
   "id": "a3b6f473",
   "metadata": {},
   "outputs": [
    {
     "data": {
      "text/html": [
       "<div>\n",
       "<style scoped>\n",
       "    .dataframe tbody tr th:only-of-type {\n",
       "        vertical-align: middle;\n",
       "    }\n",
       "\n",
       "    .dataframe tbody tr th {\n",
       "        vertical-align: top;\n",
       "    }\n",
       "\n",
       "    .dataframe thead th {\n",
       "        text-align: right;\n",
       "    }\n",
       "</style>\n",
       "<table border=\"1\" class=\"dataframe\">\n",
       "  <thead>\n",
       "    <tr style=\"text-align: right;\">\n",
       "      <th></th>\n",
       "      <th>Standard Deviation</th>\n",
       "      <th>Proportion of Variance</th>\n",
       "      <th>Cumulative Proportion</th>\n",
       "    </tr>\n",
       "  </thead>\n",
       "  <tbody>\n",
       "    <tr>\n",
       "      <th>0</th>\n",
       "      <td>0.757050</td>\n",
       "      <td>0.299447</td>\n",
       "      <td>0.299447</td>\n",
       "    </tr>\n",
       "    <tr>\n",
       "      <th>1</th>\n",
       "      <td>0.607456</td>\n",
       "      <td>0.192797</td>\n",
       "      <td>0.492244</td>\n",
       "    </tr>\n",
       "    <tr>\n",
       "      <th>2</th>\n",
       "      <td>0.504619</td>\n",
       "      <td>0.133045</td>\n",
       "      <td>0.625290</td>\n",
       "    </tr>\n",
       "    <tr>\n",
       "      <th>3</th>\n",
       "      <td>0.398799</td>\n",
       "      <td>0.083096</td>\n",
       "      <td>0.708386</td>\n",
       "    </tr>\n",
       "    <tr>\n",
       "      <th>4</th>\n",
       "      <td>0.337405</td>\n",
       "      <td>0.059481</td>\n",
       "      <td>0.767866</td>\n",
       "    </tr>\n",
       "    <tr>\n",
       "      <th>5</th>\n",
       "      <td>0.310275</td>\n",
       "      <td>0.050300</td>\n",
       "      <td>0.818166</td>\n",
       "    </tr>\n",
       "    <tr>\n",
       "      <th>6</th>\n",
       "      <td>0.289697</td>\n",
       "      <td>0.043849</td>\n",
       "      <td>0.862015</td>\n",
       "    </tr>\n",
       "    <tr>\n",
       "      <th>7</th>\n",
       "      <td>0.275122</td>\n",
       "      <td>0.039548</td>\n",
       "      <td>0.901563</td>\n",
       "    </tr>\n",
       "    <tr>\n",
       "      <th>8</th>\n",
       "      <td>0.265251</td>\n",
       "      <td>0.036761</td>\n",
       "      <td>0.938323</td>\n",
       "    </tr>\n",
       "    <tr>\n",
       "      <th>9</th>\n",
       "      <td>0.248842</td>\n",
       "      <td>0.032353</td>\n",
       "      <td>0.970677</td>\n",
       "    </tr>\n",
       "    <tr>\n",
       "      <th>10</th>\n",
       "      <td>0.236903</td>\n",
       "      <td>0.029323</td>\n",
       "      <td>1.000000</td>\n",
       "    </tr>\n",
       "  </tbody>\n",
       "</table>\n",
       "</div>"
      ],
      "text/plain": [
       "    Standard Deviation  Proportion of Variance  Cumulative Proportion\n",
       "0             0.757050                0.299447               0.299447\n",
       "1             0.607456                0.192797               0.492244\n",
       "2             0.504619                0.133045               0.625290\n",
       "3             0.398799                0.083096               0.708386\n",
       "4             0.337405                0.059481               0.767866\n",
       "5             0.310275                0.050300               0.818166\n",
       "6             0.289697                0.043849               0.862015\n",
       "7             0.275122                0.039548               0.901563\n",
       "8             0.265251                0.036761               0.938323\n",
       "9             0.248842                0.032353               0.970677\n",
       "10            0.236903                0.029323               1.000000"
      ]
     },
     "execution_count": 10,
     "metadata": {},
     "output_type": "execute_result"
    }
   ],
   "source": [
    "cumuvar = []\n",
    "cumuvar.append(imp['Proportion of Variance'][0])\n",
    "\n",
    "#cumuvar.append(cumuvar[0] + imp['Proportion of Variance'][1])\n",
    "#cumuvar.append(cumuvar[1] + imp['Proportion of Variance'][2])\n",
    "\n",
    "for i in range(1,11):\n",
    "    cumuvar.append(cumuvar[i-1] + imp['Proportion of Variance'][i])\n",
    "\n",
    "imp[\"Cumulative Proportion\"] = cumuvar\n",
    "imp"
   ]
  },
  {
   "cell_type": "markdown",
   "id": "6f83d00f",
   "metadata": {},
   "source": [
    "**The analysis of principal components reveals that the first two components are able to capture approximately 50% of the information present in the segmentation variables. Factor loadings provide an insight into how the original variables are combined to form these principal components. For instance, in the given example, the principal component 2 is majorly influenced by CHEAP and EXPENSIVE, with the highest loadings in absolute terms, indicating that it mainly represents the price dimension. By projecting the data into the principal component space with predict, the grey consumers are rotated and projected into the first two principal components. The factor loadings can be obtained by executing the relevant command.**"
   ]
  },
  {
   "cell_type": "code",
   "execution_count": 11,
   "id": "1edb664c",
   "metadata": {
    "scrolled": false
   },
   "outputs": [
    {
     "name": "stdout",
     "output_type": "stream",
     "text": [
      "Components: [[-0.47693349 -0.15533159 -0.00635636  0.11623168  0.3044427  -0.10849325\n",
      "  -0.33718593 -0.47151394  0.32904173 -0.21371062  0.37475293]\n",
      " [ 0.36378978  0.016414    0.01880869 -0.03409395 -0.06383884 -0.0869722\n",
      "  -0.61063276  0.3073178   0.60128596  0.07659344 -0.13965633]\n",
      " [-0.30444402 -0.0625153  -0.03701866 -0.32235949 -0.80237317 -0.06464172\n",
      "  -0.14931026 -0.28726479  0.02439661  0.19205128 -0.08857138]\n",
      " [ 0.0551622  -0.14242496  0.19761927 -0.35413876  0.2539601  -0.09736269\n",
      "   0.11895823 -0.00254696  0.06781599  0.76348804  0.36953871]\n",
      " [-0.30753507  0.27760805  0.07062017 -0.07340475  0.36139895  0.10793025\n",
      "  -0.12897259 -0.21089912 -0.00312457  0.28784553 -0.72920859]\n",
      " [ 0.17073819 -0.34783006 -0.3550866  -0.40651542  0.20934711 -0.59463206\n",
      "  -0.10324067 -0.07691443 -0.26134151 -0.17822612 -0.21087805]\n",
      " [-0.28051863 -0.05973793  0.70763705 -0.38594277  0.03616962 -0.08684577\n",
      "  -0.04044934  0.36045348 -0.06838452 -0.34961569 -0.02679159]\n",
      " [ 0.01304117 -0.11307868  0.37593402  0.58962241 -0.13824084 -0.62779877\n",
      "   0.14006047 -0.07279193  0.02953939  0.17630281 -0.16718101]\n",
      " [ 0.57240278 -0.01846534  0.40027977 -0.16051227 -0.00284738  0.16619659\n",
      "   0.07606907 -0.63908592  0.06699639 -0.1855722  -0.07248255]\n",
      " [-0.11028437 -0.66581756 -0.07563413 -0.00533813  0.00870725  0.23953197\n",
      "   0.42808739  0.0791838   0.45439925 -0.03811713 -0.28959188]\n",
      " [ 0.04543901 -0.54161635  0.14172992  0.25090987  0.00164229  0.33926454\n",
      "  -0.48928285  0.01955226 -0.49006853  0.15760765 -0.04066227]]\n",
      "\n",
      "Explained Variance: [0.57312398 0.36900226 0.2546408  0.15904032 0.11384214 0.09627033\n",
      " 0.08392454 0.07569209 0.07035814 0.06192225 0.05612296]\n",
      "\n",
      "Explained Variance Ratio: [0.29944723 0.19279721 0.13304535 0.08309578 0.05948052 0.05029956\n",
      " 0.0438491  0.03954779 0.0367609  0.03235329 0.02932326]\n",
      "\n",
      "Singular Values: [28.84746118 23.14716582 19.22858381 15.19626736 12.85685762 11.82305052\n",
      " 11.03895052 10.48355462 10.10742431  9.48214684  9.02721076]\n",
      "\n",
      "Mean: [0.55264969 0.90777701 0.09359945 0.86717137 0.5264969  0.90020647\n",
      " 0.59876118 0.64418445 0.35788025 0.19889883 0.24294563]\n",
      "\n",
      "Component: 11\n",
      "\n",
      "Features: 11\n",
      "\n",
      "Samples: 1453\n",
      "\n",
      "Noise Variance: 0.0\n",
      "\n",
      "Features In: 11\n",
      "\n",
      "Feature Names: ['yummy' 'convenient' 'spicy' 'fattening' 'greasy' 'fast' 'cheap' 'tasty'\n",
      " 'expensive' 'healthy' 'disgusting']\n"
     ]
    },
    {
     "name": "stderr",
     "output_type": "stream",
     "text": [
      "C:\\Python\\Python39\\lib\\site-packages\\sklearn\\utils\\deprecation.py:101: FutureWarning: Attribute `n_features_` was deprecated in version 1.2 and will be removed in 1.4. Use `n_features_in_` instead.\n",
      "  warnings.warn(msg, category=FutureWarning)\n"
     ]
    }
   ],
   "source": [
    "print(\"Components:\",pca.components_)\n",
    "print()\n",
    "print(\"Explained Variance:\", pca.explained_variance_)\n",
    "print()\n",
    "print(\"Explained Variance Ratio:\", pca.explained_variance_ratio_)\n",
    "print()\n",
    "print(\"Singular Values:\", pca.singular_values_)\n",
    "print()\n",
    "print(\"Mean:\", pca.mean_)\n",
    "print()\n",
    "print(\"Component:\", pca.n_components_)\n",
    "print()\n",
    "print(\"Features:\", pca.n_features_)\n",
    "print()\n",
    "print(\"Samples:\", pca.n_samples_)\n",
    "print()\n",
    "print(\"Noise Variance:\", pca.noise_variance_)\n",
    "print()\n",
    "print(\"Features In:\", pca.n_features_in_)\n",
    "print()\n",
    "print(\"Feature Names:\", pca.feature_names_in_)"
   ]
  },
  {
   "cell_type": "code",
   "execution_count": 12,
   "id": "bff23bda",
   "metadata": {},
   "outputs": [
    {
     "data": {
      "text/html": [
       "<div>\n",
       "<style scoped>\n",
       "    .dataframe tbody tr th:only-of-type {\n",
       "        vertical-align: middle;\n",
       "    }\n",
       "\n",
       "    .dataframe tbody tr th {\n",
       "        vertical-align: top;\n",
       "    }\n",
       "\n",
       "    .dataframe thead th {\n",
       "        text-align: right;\n",
       "    }\n",
       "</style>\n",
       "<table border=\"1\" class=\"dataframe\">\n",
       "  <thead>\n",
       "    <tr style=\"text-align: right;\">\n",
       "      <th></th>\n",
       "      <th>0</th>\n",
       "      <th>1</th>\n",
       "      <th>2</th>\n",
       "      <th>3</th>\n",
       "      <th>4</th>\n",
       "      <th>5</th>\n",
       "      <th>6</th>\n",
       "      <th>7</th>\n",
       "      <th>8</th>\n",
       "      <th>9</th>\n",
       "      <th>10</th>\n",
       "    </tr>\n",
       "  </thead>\n",
       "  <tbody>\n",
       "    <tr>\n",
       "      <th>0</th>\n",
       "      <td>0.476933</td>\n",
       "      <td>-0.363790</td>\n",
       "      <td>0.304444</td>\n",
       "      <td>-0.055162</td>\n",
       "      <td>0.307535</td>\n",
       "      <td>-0.170738</td>\n",
       "      <td>0.280519</td>\n",
       "      <td>-0.013041</td>\n",
       "      <td>-0.572403</td>\n",
       "      <td>0.110284</td>\n",
       "      <td>-0.045439</td>\n",
       "    </tr>\n",
       "    <tr>\n",
       "      <th>1</th>\n",
       "      <td>0.155332</td>\n",
       "      <td>-0.016414</td>\n",
       "      <td>0.062515</td>\n",
       "      <td>0.142425</td>\n",
       "      <td>-0.277608</td>\n",
       "      <td>0.347830</td>\n",
       "      <td>0.059738</td>\n",
       "      <td>0.113079</td>\n",
       "      <td>0.018465</td>\n",
       "      <td>0.665818</td>\n",
       "      <td>0.541616</td>\n",
       "    </tr>\n",
       "    <tr>\n",
       "      <th>2</th>\n",
       "      <td>0.006356</td>\n",
       "      <td>-0.018809</td>\n",
       "      <td>0.037019</td>\n",
       "      <td>-0.197619</td>\n",
       "      <td>-0.070620</td>\n",
       "      <td>0.355087</td>\n",
       "      <td>-0.707637</td>\n",
       "      <td>-0.375934</td>\n",
       "      <td>-0.400280</td>\n",
       "      <td>0.075634</td>\n",
       "      <td>-0.141730</td>\n",
       "    </tr>\n",
       "    <tr>\n",
       "      <th>3</th>\n",
       "      <td>-0.116232</td>\n",
       "      <td>0.034094</td>\n",
       "      <td>0.322359</td>\n",
       "      <td>0.354139</td>\n",
       "      <td>0.073405</td>\n",
       "      <td>0.406515</td>\n",
       "      <td>0.385943</td>\n",
       "      <td>-0.589622</td>\n",
       "      <td>0.160512</td>\n",
       "      <td>0.005338</td>\n",
       "      <td>-0.250910</td>\n",
       "    </tr>\n",
       "    <tr>\n",
       "      <th>4</th>\n",
       "      <td>-0.304443</td>\n",
       "      <td>0.063839</td>\n",
       "      <td>0.802373</td>\n",
       "      <td>-0.253960</td>\n",
       "      <td>-0.361399</td>\n",
       "      <td>-0.209347</td>\n",
       "      <td>-0.036170</td>\n",
       "      <td>0.138241</td>\n",
       "      <td>0.002847</td>\n",
       "      <td>-0.008707</td>\n",
       "      <td>-0.001642</td>\n",
       "    </tr>\n",
       "    <tr>\n",
       "      <th>5</th>\n",
       "      <td>0.108493</td>\n",
       "      <td>0.086972</td>\n",
       "      <td>0.064642</td>\n",
       "      <td>0.097363</td>\n",
       "      <td>-0.107930</td>\n",
       "      <td>0.594632</td>\n",
       "      <td>0.086846</td>\n",
       "      <td>0.627799</td>\n",
       "      <td>-0.166197</td>\n",
       "      <td>-0.239532</td>\n",
       "      <td>-0.339265</td>\n",
       "    </tr>\n",
       "    <tr>\n",
       "      <th>6</th>\n",
       "      <td>0.337186</td>\n",
       "      <td>0.610633</td>\n",
       "      <td>0.149310</td>\n",
       "      <td>-0.118958</td>\n",
       "      <td>0.128973</td>\n",
       "      <td>0.103241</td>\n",
       "      <td>0.040449</td>\n",
       "      <td>-0.140060</td>\n",
       "      <td>-0.076069</td>\n",
       "      <td>-0.428087</td>\n",
       "      <td>0.489283</td>\n",
       "    </tr>\n",
       "    <tr>\n",
       "      <th>7</th>\n",
       "      <td>0.471514</td>\n",
       "      <td>-0.307318</td>\n",
       "      <td>0.287265</td>\n",
       "      <td>0.002547</td>\n",
       "      <td>0.210899</td>\n",
       "      <td>0.076914</td>\n",
       "      <td>-0.360453</td>\n",
       "      <td>0.072792</td>\n",
       "      <td>0.639086</td>\n",
       "      <td>-0.079184</td>\n",
       "      <td>-0.019552</td>\n",
       "    </tr>\n",
       "    <tr>\n",
       "      <th>8</th>\n",
       "      <td>-0.329042</td>\n",
       "      <td>-0.601286</td>\n",
       "      <td>-0.024397</td>\n",
       "      <td>-0.067816</td>\n",
       "      <td>0.003125</td>\n",
       "      <td>0.261342</td>\n",
       "      <td>0.068385</td>\n",
       "      <td>-0.029539</td>\n",
       "      <td>-0.066996</td>\n",
       "      <td>-0.454399</td>\n",
       "      <td>0.490069</td>\n",
       "    </tr>\n",
       "    <tr>\n",
       "      <th>9</th>\n",
       "      <td>0.213711</td>\n",
       "      <td>-0.076593</td>\n",
       "      <td>-0.192051</td>\n",
       "      <td>-0.763488</td>\n",
       "      <td>-0.287846</td>\n",
       "      <td>0.178226</td>\n",
       "      <td>0.349616</td>\n",
       "      <td>-0.176303</td>\n",
       "      <td>0.185572</td>\n",
       "      <td>0.038117</td>\n",
       "      <td>-0.157608</td>\n",
       "    </tr>\n",
       "    <tr>\n",
       "      <th>10</th>\n",
       "      <td>-0.374753</td>\n",
       "      <td>0.139656</td>\n",
       "      <td>0.088571</td>\n",
       "      <td>-0.369539</td>\n",
       "      <td>0.729209</td>\n",
       "      <td>0.210878</td>\n",
       "      <td>0.026792</td>\n",
       "      <td>0.167181</td>\n",
       "      <td>0.072483</td>\n",
       "      <td>0.289592</td>\n",
       "      <td>0.040662</td>\n",
       "    </tr>\n",
       "  </tbody>\n",
       "</table>\n",
       "</div>"
      ],
      "text/plain": [
       "          0         1         2         3         4         5         6   \\\n",
       "0   0.476933 -0.363790  0.304444 -0.055162  0.307535 -0.170738  0.280519   \n",
       "1   0.155332 -0.016414  0.062515  0.142425 -0.277608  0.347830  0.059738   \n",
       "2   0.006356 -0.018809  0.037019 -0.197619 -0.070620  0.355087 -0.707637   \n",
       "3  -0.116232  0.034094  0.322359  0.354139  0.073405  0.406515  0.385943   \n",
       "4  -0.304443  0.063839  0.802373 -0.253960 -0.361399 -0.209347 -0.036170   \n",
       "5   0.108493  0.086972  0.064642  0.097363 -0.107930  0.594632  0.086846   \n",
       "6   0.337186  0.610633  0.149310 -0.118958  0.128973  0.103241  0.040449   \n",
       "7   0.471514 -0.307318  0.287265  0.002547  0.210899  0.076914 -0.360453   \n",
       "8  -0.329042 -0.601286 -0.024397 -0.067816  0.003125  0.261342  0.068385   \n",
       "9   0.213711 -0.076593 -0.192051 -0.763488 -0.287846  0.178226  0.349616   \n",
       "10 -0.374753  0.139656  0.088571 -0.369539  0.729209  0.210878  0.026792   \n",
       "\n",
       "          7         8         9         10  \n",
       "0  -0.013041 -0.572403  0.110284 -0.045439  \n",
       "1   0.113079  0.018465  0.665818  0.541616  \n",
       "2  -0.375934 -0.400280  0.075634 -0.141730  \n",
       "3  -0.589622  0.160512  0.005338 -0.250910  \n",
       "4   0.138241  0.002847 -0.008707 -0.001642  \n",
       "5   0.627799 -0.166197 -0.239532 -0.339265  \n",
       "6  -0.140060 -0.076069 -0.428087  0.489283  \n",
       "7   0.072792  0.639086 -0.079184 -0.019552  \n",
       "8  -0.029539 -0.066996 -0.454399  0.490069  \n",
       "9  -0.176303  0.185572  0.038117 -0.157608  \n",
       "10  0.167181  0.072483  0.289592  0.040662  "
      ]
     },
     "execution_count": 12,
     "metadata": {},
     "output_type": "execute_result"
    }
   ],
   "source": [
    "com = pd.DataFrame(pca.components_)\n",
    "com = com.T*(-1)\n",
    "com.head(11)"
   ]
  },
  {
   "cell_type": "code",
   "execution_count": 13,
   "id": "2e8e69d6",
   "metadata": {},
   "outputs": [
    {
     "name": "stdout",
     "output_type": "stream",
     "text": [
      "[0.75704952 0.60745556 0.50461946 0.39879859 0.33740501 0.31027461\n",
      " 0.28969732 0.27512196 0.2652511  0.24884182 0.23690284]\n"
     ]
    }
   ],
   "source": [
    "print(np.sqrt(pca.explained_variance_))"
   ]
  },
  {
   "cell_type": "markdown",
   "id": "cdd243d4",
   "metadata": {},
   "source": [
    "**The loadings in principal component analysis show how the original variables are combined to create principal components. These loadings help interpret principal components. For instance, in the example given, the two segmentation variables with the highest loadings for the second principal component are `CHEAP` and `EXPENSIVE`, indicating that this principal component represents the price dimension. Using the `predict` function, we can project the data into the principal component space. In the next step, the data is rotated and projected into the first two principal components. Consumers are represented in grey, and the rotated and projected original segmentation variables are shown as arrows in the plot.**"
   ]
  },
  {
   "cell_type": "code",
   "execution_count": 14,
   "id": "7bd4bb74",
   "metadata": {
    "scrolled": false
   },
   "outputs": [
    {
     "name": "stderr",
     "output_type": "stream",
     "text": [
      "C:\\Python\\Python39\\lib\\site-packages\\sklearn\\cluster\\_kmeans.py:870: FutureWarning: The default value of `n_init` will change from 10 to 'auto' in 1.4. Set the value of `n_init` explicitly to suppress the warning\n",
      "  warnings.warn(\n"
     ]
    },
    {
     "data": {
      "image/png": "[encoded data removed]",
      "text/plain": [
       "<Figure size 640x480 with 1 Axes>"
      ]
     },
     "metadata": {},
     "output_type": "display_data"
    },
    {
     "data": {
      "image/png": "[encoded data removed]",
      "text/plain": [
       "<Figure size 640x480 with 1 Axes>"
      ]
     },
     "metadata": {},
     "output_type": "display_data"
    }
   ],
   "source": [
    "import matplotlib.pyplot as plt\n",
    "from sklearn.cluster import KMeans\n",
    "\n",
    "transformed_md = pca.fit_transform(md)\n",
    "km28 = KMeans()\n",
    "predicted_clusters = km28.fit_predict(transformed_md)\n",
    "\n",
    "# create a scatter plot of the predicted clusters\n",
    "plt.scatter(transformed_md[:, 0], transformed_md[:, 1], c=predicted_clusters, cmap='viridis')\n",
    "plt.title('Predicted Clusters')\n",
    "plt.show()\n",
    "\n",
    "# create a scatter plot of the data projected onto the first two principal components\n",
    "plt.scatter(transformed_md[:, 0], transformed_md[:, 1])\n",
    "plt.title('Projected Data')\n",
    "plt.show()"
   ]
  },
  {
   "cell_type": "markdown",
   "id": "75b647e1",
   "metadata": {},
   "source": [
    "**Above figure presents a perceptual map of McDonald's attributes based on consumer evaluations. The attributes of CHEAP and EXPENSIVE are crucial factors in the evaluation of McDonald's, and are independently assessed. FATTENING, DISGUSTING, and GREASY align with negative perceptions, while FAST, CONVENIENT, HEALTHY, TASTY, and YUMMY align with positive perceptions. The map indicates that consumers cluster into three groups along the EXPENSIVE versus CHEAP axis. These insights provide valuable information for segment extraction, showing that some attributes strongly relate to each other and that the price dimension may be essential in distinguishing between consumer groups.**"
   ]
  },
  {
   "cell_type": "code",
   "execution_count": 15,
   "id": "55afdc09",
   "metadata": {},
   "outputs": [
    {
     "data": {
      "image/png": "[encoded data removed]",
      "text/plain": [
       "<Figure size 640x480 with 1 Axes>"
      ]
     },
     "metadata": {},
     "output_type": "display_data"
    }
   ],
   "source": [
    "np.random.seed(1234)\n",
    "\n",
    "# Perform k-means clustering for k = 2 to 8\n",
    "inertias = []\n",
    "for k in range(2, 9):\n",
    "    km28 = KMeans(n_clusters=k, n_init=10, verbose=0)\n",
    "    km28.fit(md)\n",
    "    inertias.append(km28.inertia_)\n",
    "\n",
    "# Find the elbow point\n",
    "import matplotlib.pyplot as plt\n",
    "plt.plot(range(2, 9), inertias, marker='o')\n",
    "plt.xlabel('Number of clusters')\n",
    "plt.ylabel('Inertia')\n",
    "plt.show()"
   ]
  },
  {
   "cell_type": "markdown",
   "id": "5c753be2",
   "metadata": {},
   "source": [
    "**The above plot does not show a clear elbow that would indicate a good number of market segments to extract. The sum of distances within market segments decreases slowly as the number of segments increases, but there is no point where the drop in the sum of distances is significant. This makes it difficult to determine a suitable number of segments using this approach.**\n",
    "\n",
    "**Another method to identify a good number of segments is stability-based data structure analysis. This approach assesses the stability of segmentation solutions across repeated calculations and determines whether the market segments occur naturally in the data or if they have to be artificially constructed. Using an unstable, random solution for market segmentation would provide little confidence to McDonald's management for investing resources in a market segmentation strategy. Therefore, assessing the stability of segmentation solutions across repeated calculations ensures that only stable solutions are used for market segmentation.**"
   ]
  },
  {
   "cell_type": "code",
   "execution_count": 16,
   "id": "3cb547ab",
   "metadata": {},
   "outputs": [
    {
     "data": {
      "image/png": "[encoded data removed]",
      "text/plain": [
       "<Figure size 640x480 with 1 Axes>"
      ]
     },
     "metadata": {},
     "output_type": "display_data"
    }
   ],
   "source": [
    "plt.hist(predicted_clusters)\n",
    "plt.show()"
   ]
  }
 ],
 "metadata": {
  "kernelspec": {
   "display_name": "Python 3 (ipykernel)",
   "language": "python",
   "name": "python3"
  },
  "language_info": {
   "codemirror_mode": {
    "name": "ipython",
    "version": 3
   },
   "file_extension": ".py",
   "mimetype": "text/x-python",
   "name": "python",
   "nbconvert_exporter": "python",
   "pygments_lexer": "ipython3",
   "version": "3.9.5"
  }
 },
 "nbformat": 4,
 "nbformat_minor": 5
}
